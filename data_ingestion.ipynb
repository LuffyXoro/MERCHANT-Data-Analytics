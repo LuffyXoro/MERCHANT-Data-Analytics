{
 "cells": [
  {
   "cell_type": "code",
   "execution_count": 5,
   "id": "97973cc4",
   "metadata": {},
   "outputs": [],
   "source": [
    "import pandas as pd\n",
    "import os\n",
    "from sqlalchemy import  create_engine\n",
    "import logging\n",
    "import time\n",
    "\n",
    "\n",
    "logging.basicConfig(\n",
    "    filename=\"logs/ingestion_db.log\",\n",
    "    level=logging.DEBUG,\n",
    "    format=\"%(asctime)s-%(levelname)s-%(message)s\",\n",
    "    filemode=\"a\")"
   ]
  },
  {
   "cell_type": "code",
   "execution_count": 6,
   "id": "6ed981af",
   "metadata": {},
   "outputs": [
    {
     "name": "stdout",
     "output_type": "stream",
     "text": [
      "(206529, 9)\n",
      "(224489, 9)\n",
      "(2372474, 16)\n",
      "(12261, 9)\n",
      "(12825363, 14)\n",
      "(5543, 10)\n"
     ]
    }
   ],
   "source": [
    "engine = create_engine('sqlite:///inventory.db')\n",
    "\n",
    "''' this will ingest the df into db '''\n",
    "def ingest_db(df,table_name,engine):\n",
    "    df.to_sql(table_name, con=engine, if_exists='replace', index=False, chunksize=1000)\n",
    "  \n",
    "\n",
    "\n",
    "''' this will load csv's as df and ingest into db '''\n",
    "def load_raw_data():                                                    \n",
    "    start=time.time()\n",
    "    for file in os.listdir('data'):\n",
    "        if '.csv' in file: \n",
    "            df=pd.read_csv('data/'+file)\n",
    "            print(df.shape)\n",
    "            ingest_db(df,file[:-4],engine)\n",
    "    end=time.time()\n",
    "    total_time=(end-start)/60\n",
    "    logging.info(\"-----INGESTION COMPLETE-----\")\n",
    "\n",
    "    logging.info(f'\\nTotal time taken : {total_time} minutes')\n",
    "    \n",
    "if __name__==\"__main__\":\n",
    "    load_raw_data()\n"
   ]
  },
  {
   "cell_type": "code",
   "execution_count": null,
   "id": "8907308f",
   "metadata": {},
   "outputs": [],
   "source": []
  }
 ],
 "metadata": {
  "kernelspec": {
   "display_name": "venv",
   "language": "python",
   "name": "python3"
  },
  "language_info": {
   "codemirror_mode": {
    "name": "ipython",
    "version": 3
   },
   "file_extension": ".py",
   "mimetype": "text/x-python",
   "name": "python",
   "nbconvert_exporter": "python",
   "pygments_lexer": "ipython3",
   "version": "3.10.16"
  }
 },
 "nbformat": 4,
 "nbformat_minor": 5
}
